{
 "cells": [
  {
   "cell_type": "code",
   "execution_count": 1,
   "id": "1dc22833",
   "metadata": {},
   "outputs": [],
   "source": [
    "import pandas as pd\n",
    "import numpy as np\n",
    "from numpy import arange,cos,sin,pi,sqrt,arcsin\n",
    "\n",
    "%matplotlib inline\n",
    "import matplotlib.pyplot as plt\n",
    "from astropy import constants as C"
   ]
  },
  {
   "cell_type": "code",
   "execution_count": 2,
   "id": "c75be056",
   "metadata": {},
   "outputs": [],
   "source": [
    "#CONSTANTES\n",
    "#Constantes del planeta\n",
    "\n",
    "Pseg=2690*24*3600 #periodo orbital en dias\n",
    "mtot=0.781*C.M_sun.value #masa de la estrella en masas solares\n",
    "m2sini= 0.78*C.M_jup.value #masa del planeta en masas de jupiter\n",
    "dtot=3.20260*C.pc.value #distancia a la tierra en pc\n",
    "e=0.070\n",
    "\n",
    "#Constantes\n",
    "G1=C.G.value\n",
    "omega2=pi/2"
   ]
  },
  {
   "cell_type": "code",
   "execution_count": 3,
   "id": "a8ed55d3",
   "metadata": {},
   "outputs": [],
   "source": [
    "M=0.25*2*pi\n",
    "E_0=M\n",
    "E_1=M+e*sin(E_0)\n",
    "while abs(E_1-E_0)>0.0001:\n",
    "    E_0=E_1\n",
    "    E_1=M+e*sin(E_0)\n"
   ]
  },
  {
   "cell_type": "code",
   "execution_count": 4,
   "id": "54ee3054",
   "metadata": {},
   "outputs": [],
   "source": [
    "i_min=arcsin(m2sini/(72*C.M_jup.value))\n"
   ]
  },
  {
   "cell_type": "code",
   "execution_count": 5,
   "id": "081efcd8",
   "metadata": {},
   "outputs": [],
   "source": [
    "#arrays\n",
    "Omega2=np.linspace(0,2*pi,100)\n",
    "i=np.linspace(np.amin(i_min),2*pi,100)"
   ]
  },
  {
   "cell_type": "code",
   "execution_count": 6,
   "id": "28aef1c6",
   "metadata": {},
   "outputs": [],
   "source": [
    "new_i,new_Omega2=np.meshgrid(i,Omega2)"
   ]
  },
  {
   "cell_type": "code",
   "execution_count": 7,
   "id": "752a82c3",
   "metadata": {},
   "outputs": [],
   "source": [
    "#Coordenadas rectangulares cojn excentricidad diferente de 0\n",
    "X=np.cos(E_1)-e\n",
    "Y=sqrt(1-e**2)*np.sin(E_1)"
   ]
  },
  {
   "cell_type": "code",
   "execution_count": 8,
   "id": "1d96026f",
   "metadata": {},
   "outputs": [],
   "source": [
    "#ponemos todas las funciones para el calculo de los elementos de Thiele-Innes\n",
    "def Af(atot,Omega2,omega2,i):\n",
    "    return atot*(cos(Omega2)*cos(omega2)-sin(Omega2)*sin(omega2)*cos(i))\n",
    "def Bf(atot,Omega2,omega2,i):\n",
    "    return atot*(sin(Omega2)*cos(omega2)+cos(Omega2)*sin(omega2)*cos(i))\n",
    "def Ff(atot,Omega2,omega2,i):\n",
    "    return atot*(-cos(Omega2)*sin(omega2)-sin(Omega2)*cos(omega2)*cos(i))\n",
    "def Gf(atot,Omega2,omega2,i):\n",
    "    return atot*(-sin(Omega2)*sin(omega2)+cos(Omega2)*cos(omega2)*cos(i))\n"
   ]
  },
  {
   "cell_type": "code",
   "execution_count": 9,
   "id": "44b8c1a2",
   "metadata": {},
   "outputs": [],
   "source": [
    "#VECTORIZACION DE FUNCIONES\n",
    "A=np.vectorize(Af)\n",
    "B=np.vectorize(Bf)\n",
    "G=np.vectorize(Ff)\n",
    "F=np.vectorize(Gf)"
   ]
  },
  {
   "cell_type": "code",
   "execution_count": 21,
   "id": "9a5dd736",
   "metadata": {},
   "outputs": [],
   "source": [
    "#Tercera ley de kepler para calcular el semieje mayor en metros\n",
    "def atota(P,mtot):\n",
    "    return (P**2*G1*mtot/(4*pi**2))**(1/3)\n"
   ]
  },
  {
   "cell_type": "code",
   "execution_count": 22,
   "id": "818795e5",
   "metadata": {},
   "outputs": [],
   "source": [
    "atotal=np.vectorize(atota)"
   ]
  },
  {
   "cell_type": "code",
   "execution_count": 24,
   "id": "39540f14",
   "metadata": {},
   "outputs": [
    {
     "name": "stderr",
     "output_type": "stream",
     "text": [
      "C:\\Users\\Usuario\\AppData\\Local\\Temp/ipykernel_9584/2745298755.py:3: RuntimeWarning: invalid value encountered in double_scalars\n",
      "  return (P**2*G1*mtot/(4*pi**2))**(1/3)\n"
     ]
    },
    {
     "data": {
      "text/plain": [
       "1037.7177761320572"
      ]
     },
     "execution_count": 24,
     "metadata": {},
     "output_type": "execute_result"
    }
   ],
   "source": [
    "atot=(atotal(Pseg,mtot)/dtot*180/pi*3600e6)*m2sini/mtot  #sale en muas\n",
    "atot"
   ]
  },
  {
   "cell_type": "code",
   "execution_count": 25,
   "id": "8c11b218",
   "metadata": {},
   "outputs": [],
   "source": [
    "a1=Af(atot,new_Omega2,omega2,new_i)\n",
    "b1=Bf(atot,new_Omega2,omega2,new_i)\n",
    "f1=Ff(atot,new_Omega2,omega2,new_i)\n",
    "g1=Gf(atot,new_Omega2,omega2,new_i)"
   ]
  },
  {
   "cell_type": "code",
   "execution_count": 26,
   "id": "6dddb5ad",
   "metadata": {},
   "outputs": [],
   "source": [
    "#obtención de delta-delta y delta-alpha y su vectorizacion\n",
    "def deldel(A,X,F,Y):\n",
    "    return A*X+F*Y\n",
    "def delalp(B,X,G,Y):\n",
    "    return B*X+G*Y        \n",
    "alpa=np.vectorize(delalp)\n",
    "delpa=np.vectorize(deldel)"
   ]
  },
  {
   "cell_type": "code",
   "execution_count": 27,
   "id": "add7e046",
   "metadata": {},
   "outputs": [],
   "source": [
    "alfa1=delalp(a1,X,f1,Y)\n",
    "delta1=deldel(b1,X,g1,Y)\n",
    "alfa1 = np.array(alfa1)\n",
    "delta1 = np.array(delta1)"
   ]
  },
  {
   "cell_type": "code",
   "execution_count": 28,
   "id": "ef6f0e29",
   "metadata": {},
   "outputs": [],
   "source": [
    "#AHORA PROCEDEMOS A DEFINIR RHO \n",
    "def rho(alfa,delta):\n",
    "    return sqrt(alfa**2+delta**2)\n",
    "vec_rho=np.vectorize(rho)"
   ]
  },
  {
   "cell_type": "code",
   "execution_count": 29,
   "id": "089b121d",
   "metadata": {},
   "outputs": [
    {
     "data": {
      "text/plain": [
       "1042.786080103596"
      ]
     },
     "execution_count": 29,
     "metadata": {},
     "output_type": "execute_result"
    }
   ],
   "source": [
    "astro_sig=rho(alfa1,delta1)\n",
    "np.amax(astro_sig)"
   ]
  },
  {
   "cell_type": "code",
   "execution_count": 39,
   "id": "1c3f2784",
   "metadata": {},
   "outputs": [
    {
     "data": {
      "image/png": "[encoded data removed]",
      "text/plain": [
       "<Figure size 720x720 with 2 Axes>"
      ]
     },
     "metadata": {
      "needs_background": "light"
     },
     "output_type": "display_data"
    }
   ],
   "source": [
    "\n"
   ]
  },
  {
   "cell_type": "code",
   "execution_count": 54,
   "id": "ec244e02",
   "metadata": {},
   "outputs": [
    {
     "data": {
      "image/png": "[encoded data removed]",
      "text/plain": [
       "<Figure size 720x720 with 4 Axes>"
      ]
     },
     "metadata": {
      "needs_background": "light"
     },
     "output_type": "display_data"
    }
   ],
   "source": [
    "figu=plt.figure(figsize=(10,10))  #tamaño de cada gráfica\n",
    "figu.subplots_adjust(hspace=1.5,wspace=1.5)\n",
    "figu.suptitle('$\\epsilon$ Eridani b')       \n",
    "\n",
    "            #subplot 1\n",
    "ax1=figu.add_subplot(2,2,1)\n",
    "img1=ax1.imshow(alfa1,cmap='hot')\n",
    "ax1.set_xlabel('i (deg)',size = 14)\n",
    "ax1.set_ylabel('$\\Omega$2 (deg)',size = 14)\n",
    "ax1.set_title('$\\Delta \\\\alpha$',size = 14)\n",
    "cbar=plt.colorbar(img1,ax=ax1,shrink=0.6)\n",
    "cbar.set_label('$\\Delta \\\\alpha$(E)  ($\\mu$as)')\n",
    "\n",
    "\n",
    "            #subplot 2\n",
    "ax2=figu.add_subplot(2,2,2)\n",
    "img2=ax2.imshow(delta1,cmap='hot')\n",
    "ax2.set_xlabel('i (deg)',size = 14)\n",
    "ax2.set_ylabel('$\\Omega$2 (deg)',size = 14)\n",
    "ax2.set_title('$\\Delta  \\delta $',size = 14)\n",
    "cbar=plt.colorbar(img2,ax=ax2,shrink=0.6)\n",
    "cbar.set_label('$\\Delta  \\delta (E)$ ($\\mu$as)')\n",
    "\n",
    "\n"
   ]
  }
 ],
 "metadata": {
  "kernelspec": {
   "display_name": "Python 3 (ipykernel)",
   "language": "python",
   "name": "python3"
  },
  "language_info": {
   "codemirror_mode": {
    "name": "ipython",
    "version": 3
   },
   "file_extension": ".py",
   "mimetype": "text/x-python",
   "name": "python",
   "nbconvert_exporter": "python",
   "pygments_lexer": "ipython3",
   "version": "3.9.7"
  }
 },
 "nbformat": 4,
 "nbformat_minor": 5
}
